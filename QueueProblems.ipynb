{
 "cells": [
  {
   "cell_type": "code",
   "execution_count": 11,
   "metadata": {},
   "outputs": [],
   "source": [
    "# Implementing Queue Data Structure By Using Array Data Structure.\n",
    "class Queue:\n",
    "    def __init__(self, capacity):\n",
    "        self.front = -1\n",
    "        self.rear = -1\n",
    "        self.arr=[None] * capacity\n",
    "        self.capacity = capacity\n",
    "        self.size = 0\n",
    "\n",
    "    def IsEmpty(self):\n",
    "        return self.front == -1\n",
    "\n",
    "    def IsFull(self):\n",
    "        return (self.front+1) % self.capacity == (self.rear)  \n",
    "    \n",
    "    def enqueue(self , data):\n",
    "        if self.IsFull():\n",
    "            print(\"Queue OverFlow\")\n",
    "            return\n",
    "\n",
    "        self.front = (self.front+1)% self.capacity\n",
    "        self.arr[self.front] = data\n",
    "        if self.rear == -1:\n",
    "            self.rear = 0\n",
    "     \n",
    "\n",
    "        self.size +=1    \n",
    "\n",
    "    def dequeue(self):\n",
    "        if self.IsEmpty():\n",
    "            print(\"Queue UnderFlow\")\n",
    "            return\n",
    "\n",
    "        data = self.arr[self.rear]\n",
    "        if self.rear == self.front:\n",
    "            self.rear = -1\n",
    "            self.front = -1\n",
    "        else:\n",
    "            self.rear = (self.rear+1)% self.capacity  \n",
    "        \n",
    "        return data\n",
    "        self.size -=1\n",
    "    \n",
    "    def sizeOf(self):\n",
    "        return self.size\n",
    "    \n",
    "    def traverse(self):\n",
    "        for i in range(self.sizeOf()):\n",
    "            print(self.arr[(self.rear+i)% self.capacity] , end=\" , \")"
   ]
  },
  {
   "cell_type": "code",
   "execution_count": 12,
   "metadata": {},
   "outputs": [],
   "source": [
    "queue = Queue(4)"
   ]
  },
  {
   "cell_type": "code",
   "execution_count": 13,
   "metadata": {},
   "outputs": [
    {
     "name": "stdout",
     "output_type": "stream",
     "text": [
      "Queue OverFlow\n",
      "Queue OverFlow\n"
     ]
    }
   ],
   "source": [
    "queue.enqueue(1)\n",
    "queue.enqueue(2)\n",
    "queue.enqueue(3)\n",
    "queue.enqueue(4)\n",
    "queue.enqueue(5)\n",
    "queue.enqueue(5)"
   ]
  },
  {
   "cell_type": "code",
   "execution_count": 14,
   "metadata": {},
   "outputs": [
    {
     "name": "stdout",
     "output_type": "stream",
     "text": [
      "Queue OverFlow\n"
     ]
    }
   ],
   "source": [
    "queue.enqueue(4)"
   ]
  },
  {
   "cell_type": "code",
   "execution_count": 15,
   "metadata": {},
   "outputs": [
    {
     "data": {
      "text/plain": [
       "4"
      ]
     },
     "execution_count": 15,
     "metadata": {},
     "output_type": "execute_result"
    }
   ],
   "source": [
    "queue.sizeOf()"
   ]
  },
  {
   "cell_type": "code",
   "execution_count": 16,
   "metadata": {},
   "outputs": [
    {
     "name": "stdout",
     "output_type": "stream",
     "text": [
      "1 , 2 , 3 , 4 , "
     ]
    }
   ],
   "source": [
    "queue.traverse()"
   ]
  },
  {
   "cell_type": "code",
   "execution_count": 17,
   "metadata": {},
   "outputs": [
    {
     "data": {
      "text/plain": [
       "1"
      ]
     },
     "execution_count": 17,
     "metadata": {},
     "output_type": "execute_result"
    }
   ],
   "source": [
    "queue.dequeue()"
   ]
  },
  {
   "cell_type": "code",
   "execution_count": 18,
   "metadata": {},
   "outputs": [
    {
     "data": {
      "text/plain": [
       "2"
      ]
     },
     "execution_count": 18,
     "metadata": {},
     "output_type": "execute_result"
    }
   ],
   "source": [
    "queue.dequeue()"
   ]
  },
  {
   "cell_type": "markdown",
   "metadata": {},
   "source": [
    "# Implementing Queue using LinkedList\n",
    "class Node\n"
   ]
  },
  {
   "cell_type": "code",
   "execution_count": 19,
   "metadata": {},
   "outputs": [],
   "source": [
    "class Node:\n",
    "    def __init__(self, data , next = None):\n",
    "        self.data = data\n",
    "        self.next = next\n",
    "\n",
    "    def setData(self,data):\n",
    "        self.data = data\n",
    "\n",
    "    def getData(self):\n",
    "        return self.data\n",
    "\n",
    "    def setNext(self):\n",
    "        self.next = next\n",
    "\n",
    "    def getNext(self):\n",
    "        return self.next\n",
    "                 "
   ]
  },
  {
   "cell_type": "code",
   "execution_count": 20,
   "metadata": {},
   "outputs": [],
   "source": [
    "class QueueLL:\n",
    "    def __init__(self):\n",
    "        self.head = None\n",
    "        self.tail = None\n",
    "        self.size = 0\n",
    "        \n",
    "    def IsEmpty(self):\n",
    "        return self.head is None\n",
    "\n",
    "    def enQueue(self, data):\n",
    "        newNode = Node(data)\n",
    "        \n",
    "        if self.IsEmpty():\n",
    "            self.head = newNode\n",
    "            self.tail = newNode\n",
    "        else:\n",
    "            self.tail.setNext(newNode)\n",
    "            self.tail = newNode    \n",
    "\n",
    "        self.size += 1\n",
    "\n",
    "    def deQueue(self):\n",
    "        if self.IsEmpty():\n",
    "            print(\"Queue UnderFlow\")\n",
    "            return None\n",
    "\n",
    "        data = self.head.getData()      \n",
    "        if self.head == self.tail:\n",
    "            self.head = None\n",
    "            self.tail = None\n",
    "        else:\n",
    "            self.head = self.head.getNext()\n",
    "\n",
    "        self.size -= 1\n",
    "        return data  \n",
    "\n",
    "    def traverse(self):\n",
    "        temp = self.head\n",
    "        while temp:\n",
    "            print(temp.getData(), end=\" , \")\n",
    "            temp = temp.getNext()\n",
    "\n",
    "        print()\n"
   ]
  },
  {
   "cell_type": "code",
   "execution_count": 33,
   "metadata": {},
   "outputs": [
    {
     "name": "stdout",
     "output_type": "stream",
     "text": [
      "10->20->30->\n",
      "10\n",
      "20->30->\n"
     ]
    }
   ],
   "source": [
    "q = QueueLL()\n",
    "q.enQueue(10)\n",
    "q.enQueue(20)\n",
    "q.enQueue(30)\n",
    "q.traverse()  \n",
    "print(q.deQueue()) \n",
    "q.traverse() "
   ]
  },
  {
   "cell_type": "code",
   "execution_count": 22,
   "metadata": {},
   "outputs": [],
   "source": [
    "# Implement the Stack Data Structure Using Queue\n",
    "class Node :\n",
    "\n",
    "  def __init__(self, data, next=None):\n",
    "    self.data = data\n",
    "    self.next = next\n",
    "\n",
    "  def getData(self):\n",
    "    return self.data\n",
    "\n",
    "  def setData(self, data):\n",
    "    self.data = data\n",
    "\n",
    "  def setNext(self, next):\n",
    "    self.next = next\n",
    "\n",
    "  def getNext(self):\n",
    "    return self.next"
   ]
  },
  {
   "cell_type": "code",
   "execution_count": 23,
   "metadata": {},
   "outputs": [],
   "source": [
    "class QueueLL :\n",
    "  def __init__(self):\n",
    "    self.head = None\n",
    "    self.tail = None\n",
    "    self.size =0\n",
    "\n",
    "  def isEmpty(self):\n",
    "    return self.head == None # self.tail == None\n",
    "\n",
    "  def enQueue(self, data):\n",
    "    node = Node(data)\n",
    "\n",
    "    if self.isEmpty():\n",
    "      self.head = node\n",
    "      self.tail = node\n",
    "    else :\n",
    "      self.tail.setNext(node)\n",
    "      self.tail = self.tail.getNext()\n",
    "    self.size +=1\n",
    "\n",
    "  def deQueue(self):\n",
    "    if self.isEmpty():\n",
    "      print(\"Queue underflow\")\n",
    "      return\n",
    "    data = self.head.getData()\n",
    "\n",
    "    #chef if it's the only element\n",
    "    if(self.head == self.tail):\n",
    "      self.head = None\n",
    "      self.tail= None #Became after deQue, Queue will be empty\n",
    "    else:\n",
    "      self.head = self.head.getNext()\n",
    "    self.size -= 1\n",
    "    return data\n",
    "\n",
    "  def traverse(self):\n",
    "    temp = self.head\n",
    "    while(temp ):\n",
    "      print(temp.getData(), end=\"->\")\n",
    "      temp = temp.getNext()\n",
    "    print()\n"
   ]
  },
  {
   "cell_type": "code",
   "execution_count": 24,
   "metadata": {},
   "outputs": [],
   "source": [
    "class StackQ:\n",
    "    def __init__(self):\n",
    "        self.q1 = QueueLL() \n",
    "        self.q2 = QueueLL()\n",
    "\n",
    "    def IsEmpty(self):\n",
    "        return self.q1.IsEmpty()\n",
    "\n",
    "    def push(self , data ):\n",
    "        self.q1.enQueue(data)\n",
    "\n",
    "    def pop(self):\n",
    "        if self.IsEmpty():\n",
    "            print(\"Stack UnderFlow\")\n",
    "\n",
    "        \n",
    "        data = None\n",
    "\n",
    "        while not self.q1.IsEmpty():\n",
    "            data = self.deQueue()\n",
    "            if not self.q1.IsEmpty():\n",
    "                self.q2 = self.enQueue(data)\n",
    "\n",
    "        self.q1 , self.q2 = self.q2 , self.q1\n",
    "\n",
    "        return data\n",
    "\n",
    "\n",
    "    def traverse(self):\n",
    "        self.q1.traverse()\n",
    "        \n",
    "                 \n",
    "\n",
    "        \n"
   ]
  },
  {
   "cell_type": "code",
   "execution_count": 25,
   "metadata": {},
   "outputs": [],
   "source": [
    "s1 = StackQ()"
   ]
  },
  {
   "cell_type": "code",
   "execution_count": 26,
   "metadata": {},
   "outputs": [],
   "source": [
    "s1.push(2)\n",
    "s1.push(2)\n",
    "s1.push(2)\n",
    "s1.push(2)\n"
   ]
  },
  {
   "cell_type": "code",
   "execution_count": 27,
   "metadata": {},
   "outputs": [
    {
     "name": "stdout",
     "output_type": "stream",
     "text": [
      "2->2->2->2->\n"
     ]
    }
   ],
   "source": [
    "s1.traverse()"
   ]
  },
  {
   "cell_type": "code",
   "execution_count": 28,
   "metadata": {},
   "outputs": [],
   "source": [
    "# Implementing Queue Using Stack.and\n",
    "class QueueS:\n",
    "    def __init__(self):\n",
    "        self.s1 = StackQ()\n",
    "        self.s2 = StackQ()\n",
    "\n",
    "    def IsEmpty(self):\n",
    "        return self.s1.IsEmpty() \n",
    "\n",
    "    def enQueue(self , data):\n",
    "        self.s1.push(data)\n",
    "\n",
    "    def deQueue(self):\n",
    "        if self.s1.IsEmpty():\n",
    "            print(\"Queue UnderFlow..\")\n",
    "            return\n",
    "        data = None\n",
    "        while not self.s1.IsEmpty():\n",
    "            data = self.s1.pop()\n",
    "            if not self.s1.IsEmpty():\n",
    "                self.s2.push(data)\n",
    "        self.s1 , self.s2 = self.s2 , self.s1\n",
    "\n",
    "        return data\n",
    "\n",
    "    def traverse(self):\n",
    "        self.s1.traverse()        \n"
   ]
  },
  {
   "cell_type": "code",
   "execution_count": 29,
   "metadata": {},
   "outputs": [],
   "source": [
    "queue = QueueS()"
   ]
  },
  {
   "cell_type": "code",
   "execution_count": 31,
   "metadata": {},
   "outputs": [],
   "source": [
    "queue.enQueue(1)\n",
    "queue.enQueue(1)\n",
    "queue.enQueue(1)\n",
    "queue.enQueue(1)"
   ]
  },
  {
   "cell_type": "code",
   "execution_count": 32,
   "metadata": {},
   "outputs": [
    {
     "name": "stdout",
     "output_type": "stream",
     "text": [
      "1->1->1->1->1->\n"
     ]
    }
   ],
   "source": [
    "queue.traverse()"
   ]
  },
  {
   "cell_type": "code",
   "execution_count": null,
   "metadata": {},
   "outputs": [],
   "source": []
  }
 ],
 "metadata": {
  "kernelspec": {
   "display_name": "Python 3",
   "language": "python",
   "name": "python3"
  },
  "language_info": {
   "codemirror_mode": {
    "name": "ipython",
    "version": 3
   },
   "file_extension": ".py",
   "mimetype": "text/x-python",
   "name": "python",
   "nbconvert_exporter": "python",
   "pygments_lexer": "ipython3",
   "version": "3.11.0"
  }
 },
 "nbformat": 4,
 "nbformat_minor": 2
}
